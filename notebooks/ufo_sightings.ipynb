{
 "cells": [
  {
   "cell_type": "code",
   "execution_count": 1,
   "metadata": {},
   "outputs": [],
   "source": [
    "import pandas as pd\n",
    "import matplotlib as plt\n",
    "import numpy as np"
   ]
  },
  {
   "cell_type": "code",
   "execution_count": 2,
   "metadata": {},
   "outputs": [
    {
     "name": "stdout",
     "output_type": "stream",
     "text": [
      "<class 'pandas.core.frame.DataFrame'>\n",
      "RangeIndex: 148451 entries, 0 to 148450\n",
      "Data columns (total 11 columns):\n",
      " #   Column      Non-Null Count   Dtype \n",
      "---  ------      --------------   ----- \n",
      " 0   Unnamed: 0  148451 non-null  int64 \n",
      " 1   image_link  148451 non-null  object\n",
      " 2   occurred    148153 non-null  object\n",
      " 3   city        147920 non-null  object\n",
      " 4   state       139495 non-null  object\n",
      " 5   country     148451 non-null  object\n",
      " 6   shape       142108 non-null  object\n",
      " 7   summary     148377 non-null  object\n",
      " 8   reported    148451 non-null  object\n",
      " 9   posted      148451 non-null  object\n",
      " 10  image       4277 non-null    object\n",
      "dtypes: int64(1), object(10)\n",
      "memory usage: 12.5+ MB\n"
     ]
    }
   ],
   "source": [
    "ufo_df = pd.read_csv('../data/nuforc.csv')\n",
    "ufo_df.info()"
   ]
  },
  {
   "cell_type": "code",
   "execution_count": null,
   "metadata": {},
   "outputs": [],
   "source": [
    "ufo_df['country'].nunique()"
   ]
  },
  {
   "cell_type": "code",
   "execution_count": null,
   "metadata": {},
   "outputs": [],
   "source": [
    "ufo_df['country'].value_counts()"
   ]
  },
  {
   "cell_type": "code",
   "execution_count": null,
   "metadata": {},
   "outputs": [],
   "source": [
    "ufo_df['city'].nunique()"
   ]
  },
  {
   "cell_type": "code",
   "execution_count": 3,
   "metadata": {},
   "outputs": [],
   "source": [
    "usa_ufos = ufo_df[ufo_df['country'] == 'USA']"
   ]
  },
  {
   "cell_type": "code",
   "execution_count": 4,
   "metadata": {},
   "outputs": [
    {
     "data": {
      "text/html": [
       "<div>\n",
       "<style scoped>\n",
       "    .dataframe tbody tr th:only-of-type {\n",
       "        vertical-align: middle;\n",
       "    }\n",
       "\n",
       "    .dataframe tbody tr th {\n",
       "        vertical-align: top;\n",
       "    }\n",
       "\n",
       "    .dataframe thead th {\n",
       "        text-align: right;\n",
       "    }\n",
       "</style>\n",
       "<table border=\"1\" class=\"dataframe\">\n",
       "  <thead>\n",
       "    <tr style=\"text-align: right;\">\n",
       "      <th></th>\n",
       "      <th>city</th>\n",
       "      <th>state</th>\n",
       "      <th>count</th>\n",
       "    </tr>\n",
       "  </thead>\n",
       "  <tbody>\n",
       "    <tr>\n",
       "      <th>0</th>\n",
       "      <td>Phoenix</td>\n",
       "      <td>AZ</td>\n",
       "      <td>773</td>\n",
       "    </tr>\n",
       "    <tr>\n",
       "      <th>1</th>\n",
       "      <td>Seattle</td>\n",
       "      <td>WA</td>\n",
       "      <td>742</td>\n",
       "    </tr>\n",
       "    <tr>\n",
       "      <th>2</th>\n",
       "      <td>Las Vegas</td>\n",
       "      <td>NV</td>\n",
       "      <td>648</td>\n",
       "    </tr>\n",
       "    <tr>\n",
       "      <th>3</th>\n",
       "      <td>Portland</td>\n",
       "      <td>OR</td>\n",
       "      <td>590</td>\n",
       "    </tr>\n",
       "    <tr>\n",
       "      <th>4</th>\n",
       "      <td>Los Angeles</td>\n",
       "      <td>CA</td>\n",
       "      <td>557</td>\n",
       "    </tr>\n",
       "    <tr>\n",
       "      <th>5</th>\n",
       "      <td>San Diego</td>\n",
       "      <td>CA</td>\n",
       "      <td>547</td>\n",
       "    </tr>\n",
       "    <tr>\n",
       "      <th>6</th>\n",
       "      <td>Tucson</td>\n",
       "      <td>AZ</td>\n",
       "      <td>472</td>\n",
       "    </tr>\n",
       "    <tr>\n",
       "      <th>7</th>\n",
       "      <td>Chicago</td>\n",
       "      <td>IL</td>\n",
       "      <td>446</td>\n",
       "    </tr>\n",
       "    <tr>\n",
       "      <th>8</th>\n",
       "      <td>Houston</td>\n",
       "      <td>TX</td>\n",
       "      <td>429</td>\n",
       "    </tr>\n",
       "    <tr>\n",
       "      <th>9</th>\n",
       "      <td>Albuquerque</td>\n",
       "      <td>NM</td>\n",
       "      <td>399</td>\n",
       "    </tr>\n",
       "  </tbody>\n",
       "</table>\n",
       "</div>"
      ],
      "text/plain": [
       "          city state  count\n",
       "0      Phoenix    AZ    773\n",
       "1      Seattle    WA    742\n",
       "2    Las Vegas    NV    648\n",
       "3     Portland    OR    590\n",
       "4  Los Angeles    CA    557\n",
       "5    San Diego    CA    547\n",
       "6       Tucson    AZ    472\n",
       "7      Chicago    IL    446\n",
       "8      Houston    TX    429\n",
       "9  Albuquerque    NM    399"
      ]
     },
     "execution_count": 4,
     "metadata": {},
     "output_type": "execute_result"
    }
   ],
   "source": [
    "us_city_counts = usa_ufos[['city', 'state']].value_counts()\n",
    "us_city_counts = pd.DataFrame(us_city_counts).reset_index()\n",
    "us_city_counts.columns = ['city', 'state', 'count']\n",
    "\n",
    "us_city_counts.sort_values('count', ascending=False)\n",
    "us_city_counts.head(10)"
   ]
  },
  {
   "cell_type": "code",
   "execution_count": null,
   "metadata": {},
   "outputs": [],
   "source": [
    "usa_ufos[['state']].nunique()\n"
   ]
  },
  {
   "cell_type": "code",
   "execution_count": null,
   "metadata": {},
   "outputs": [],
   "source": [
    "usa_ufos.state.unique()"
   ]
  },
  {
   "cell_type": "code",
   "execution_count": null,
   "metadata": {},
   "outputs": [],
   "source": [
    "usa_ufos[usa_ufos['state'] == 'GU']"
   ]
  },
  {
   "cell_type": "code",
   "execution_count": null,
   "metadata": {},
   "outputs": [],
   "source": [
    "usa_ufos = usa_ufos[usa_ufos['state'] != 'GU']"
   ]
  },
  {
   "cell_type": "code",
   "execution_count": null,
   "metadata": {},
   "outputs": [],
   "source": [
    "usa_ufos.state.unique()"
   ]
  },
  {
   "cell_type": "code",
   "execution_count": null,
   "metadata": {},
   "outputs": [],
   "source": [
    "usa_ufos[usa_ufos['state'] == 'VI']"
   ]
  },
  {
   "cell_type": "code",
   "execution_count": null,
   "metadata": {},
   "outputs": [],
   "source": [
    "usa_ufos = usa_ufos[usa_ufos['state'] != 'VI'] \n",
    "usa_ufos = usa_ufos[usa_ufos['state'] != 'PR'] \n",
    "#| (usa_ufos['state'] != '') \n",
    "usa_ufos.state.unique()"
   ]
  },
  {
   "cell_type": "code",
   "execution_count": null,
   "metadata": {},
   "outputs": [],
   "source": [
    "usa_ufos[usa_ufos['state'] == 'NB']"
   ]
  },
  {
   "cell_type": "code",
   "execution_count": null,
   "metadata": {},
   "outputs": [],
   "source": [
    "usa_ufos[usa_ufos['state'] == 'UM']\n",
    "usa_ufos = usa_ufos[usa_ufos['state'] != 'UM']"
   ]
  },
  {
   "cell_type": "code",
   "execution_count": null,
   "metadata": {},
   "outputs": [],
   "source": [
    "usa_ufos[usa_ufos['state'] == 'Fl']"
   ]
  },
  {
   "cell_type": "code",
   "execution_count": null,
   "metadata": {},
   "outputs": [],
   "source": [
    "usa_ufos['state'] = usa_ufos['state'].replace('Fl', 'FL')\n",
    "usa_ufos['state'] = usa_ufos['state'].replace('NB', 'NE')\n",
    "usa_ufos['state'] = usa_ufos['state'].replace('Ca', 'CA')\n",
    "usa_ufos['state'] = usa_ufos['state'].replace('West Virginia', 'WV')\n",
    "usa_ufos['state'] = usa_ufos['state'].replace('-', 'Unknown')\n",
    "usa_ufos['state'] = usa_ufos['state'].replace('0', 'Unknown')"
   ]
  },
  {
   "cell_type": "code",
   "execution_count": null,
   "metadata": {},
   "outputs": [],
   "source": [
    "usa_ufos.state.unique()"
   ]
  },
  {
   "cell_type": "code",
   "execution_count": null,
   "metadata": {},
   "outputs": [],
   "source": [
    "usa_ufos.state.nunique()"
   ]
  },
  {
   "cell_type": "code",
   "execution_count": null,
   "metadata": {},
   "outputs": [],
   "source": [
    "usa_ufos.groupby(['state']).count()"
   ]
  },
  {
   "cell_type": "code",
   "execution_count": null,
   "metadata": {},
   "outputs": [],
   "source": [
    "usa_ufos[usa_ufos['state']=='CA'].city.nunique()"
   ]
  },
  {
   "cell_type": "code",
   "execution_count": null,
   "metadata": {},
   "outputs": [],
   "source": [
    "usa_ufos.to_csv('usa_ufos.csv')"
   ]
  },
  {
   "cell_type": "markdown",
   "metadata": {},
   "source": [
    "usa_ufos[usa_ufos['state'] == 'CA'].sort_values('city', ascending=True).iloc[0:50]"
   ]
  },
  {
   "cell_type": "code",
   "execution_count": 11,
   "metadata": {},
   "outputs": [],
   "source": [
    "usa_ufos2 = pd.read_csv('../data/usa_ufos_clean.csv', nrows = 132308)"
   ]
  },
  {
   "cell_type": "code",
   "execution_count": 12,
   "metadata": {},
   "outputs": [
    {
     "data": {
      "text/html": [
       "<div>\n",
       "<style scoped>\n",
       "    .dataframe tbody tr th:only-of-type {\n",
       "        vertical-align: middle;\n",
       "    }\n",
       "\n",
       "    .dataframe tbody tr th {\n",
       "        vertical-align: top;\n",
       "    }\n",
       "\n",
       "    .dataframe thead th {\n",
       "        text-align: right;\n",
       "    }\n",
       "</style>\n",
       "<table border=\"1\" class=\"dataframe\">\n",
       "  <thead>\n",
       "    <tr style=\"text-align: right;\">\n",
       "      <th></th>\n",
       "      <th>id</th>\n",
       "      <th>image_link</th>\n",
       "      <th>occurred</th>\n",
       "      <th>city</th>\n",
       "      <th>state</th>\n",
       "      <th>country</th>\n",
       "      <th>shape</th>\n",
       "      <th>summary</th>\n",
       "      <th>reported</th>\n",
       "      <th>posted</th>\n",
       "      <th>image</th>\n",
       "    </tr>\n",
       "  </thead>\n",
       "  <tbody>\n",
       "    <tr>\n",
       "      <th>0</th>\n",
       "      <td>0</td>\n",
       "      <td>&lt;a data-content='Open' href='/sighting/?id=180...</td>\n",
       "      <td>2/15/2024 14:20</td>\n",
       "      <td>Shepherdsville</td>\n",
       "      <td>KY</td>\n",
       "      <td>USA</td>\n",
       "      <td>Orb</td>\n",
       "      <td>Several sightings over several years.</td>\n",
       "      <td>2/15/2024</td>\n",
       "      <td>2/15/2024</td>\n",
       "      <td>NaN</td>\n",
       "    </tr>\n",
       "    <tr>\n",
       "      <th>1</th>\n",
       "      <td>1</td>\n",
       "      <td>&lt;a data-content='Open' href='/sighting/?id=180...</td>\n",
       "      <td>2/15/2024 6:21</td>\n",
       "      <td>Greenville</td>\n",
       "      <td>SC</td>\n",
       "      <td>USA</td>\n",
       "      <td>Circle</td>\n",
       "      <td>Object moving slowing across the sky, suddenly...</td>\n",
       "      <td>2/15/2024</td>\n",
       "      <td>2/15/2024</td>\n",
       "      <td>NaN</td>\n",
       "    </tr>\n",
       "    <tr>\n",
       "      <th>2</th>\n",
       "      <td>3</td>\n",
       "      <td>&lt;a data-content='Open' href='/sighting/?id=180...</td>\n",
       "      <td>2/14/2024 22:45</td>\n",
       "      <td>NaN</td>\n",
       "      <td>VA</td>\n",
       "      <td>USA</td>\n",
       "      <td>Light</td>\n",
       "      <td>Standing to the west of this object it hung in...</td>\n",
       "      <td>2/15/2024</td>\n",
       "      <td>2/15/2024</td>\n",
       "      <td>NaN</td>\n",
       "    </tr>\n",
       "    <tr>\n",
       "      <th>3</th>\n",
       "      <td>4</td>\n",
       "      <td>&lt;a data-content='Open' href='/sighting/?id=180...</td>\n",
       "      <td>2/14/2024 22:44</td>\n",
       "      <td>Somers</td>\n",
       "      <td>CT</td>\n",
       "      <td>USA</td>\n",
       "      <td>Unknown</td>\n",
       "      <td>Odd, flashing object I could only describe dur...</td>\n",
       "      <td>2/14/2024</td>\n",
       "      <td>2/15/2024</td>\n",
       "      <td>Y</td>\n",
       "    </tr>\n",
       "    <tr>\n",
       "      <th>4</th>\n",
       "      <td>5</td>\n",
       "      <td>&lt;a data-content='Open' href='/sighting/?id=180...</td>\n",
       "      <td>2/14/2024 22:15</td>\n",
       "      <td>Boscawen</td>\n",
       "      <td>NH</td>\n",
       "      <td>USA</td>\n",
       "      <td>Light</td>\n",
       "      <td>Bright light in sky changing shape but almost ...</td>\n",
       "      <td>2/15/2024</td>\n",
       "      <td>2/15/2024</td>\n",
       "      <td>Y</td>\n",
       "    </tr>\n",
       "    <tr>\n",
       "      <th>...</th>\n",
       "      <td>...</td>\n",
       "      <td>...</td>\n",
       "      <td>...</td>\n",
       "      <td>...</td>\n",
       "      <td>...</td>\n",
       "      <td>...</td>\n",
       "      <td>...</td>\n",
       "      <td>...</td>\n",
       "      <td>...</td>\n",
       "      <td>...</td>\n",
       "      <td>...</td>\n",
       "    </tr>\n",
       "    <tr>\n",
       "      <th>132302</th>\n",
       "      <td>148445</td>\n",
       "      <td>&lt;a data-content='Open' href='/sighting/?id=156...</td>\n",
       "      <td>NaN</td>\n",
       "      <td>Manning</td>\n",
       "      <td>SC</td>\n",
       "      <td>USA</td>\n",
       "      <td>Sphere</td>\n",
       "      <td>The object was metallic in color.  Spherical i...</td>\n",
       "      <td>6/5/2020</td>\n",
       "      <td>6/25/2020</td>\n",
       "      <td>NaN</td>\n",
       "    </tr>\n",
       "    <tr>\n",
       "      <th>132303</th>\n",
       "      <td>148446</td>\n",
       "      <td>&lt;a data-content='Open' href='/sighting/?id=148...</td>\n",
       "      <td>NaN</td>\n",
       "      <td>Nahunta</td>\n",
       "      <td>GA</td>\n",
       "      <td>USA</td>\n",
       "      <td>Other</td>\n",
       "      <td>((HOAX??))  ((NUFORC Note:  Source of report p...</td>\n",
       "      <td>8/24/2019</td>\n",
       "      <td>9/6/2019</td>\n",
       "      <td>NaN</td>\n",
       "    </tr>\n",
       "    <tr>\n",
       "      <th>132304</th>\n",
       "      <td>148447</td>\n",
       "      <td>&lt;a data-content='Open' href='/sighting/?id=217...</td>\n",
       "      <td>NaN</td>\n",
       "      <td>Trevorton</td>\n",
       "      <td>PA</td>\n",
       "      <td>USA</td>\n",
       "      <td>Unknown</td>\n",
       "      <td>Fast UFO flyies across mountain areas.  Telsa ...</td>\n",
       "      <td>2/10/2002</td>\n",
       "      <td>2/22/2002</td>\n",
       "      <td>NaN</td>\n",
       "    </tr>\n",
       "    <tr>\n",
       "      <th>132305</th>\n",
       "      <td>148448</td>\n",
       "      <td>&lt;a data-content='Open' href='/sighting/?id=878...</td>\n",
       "      <td>NaN</td>\n",
       "      <td>Richland</td>\n",
       "      <td>WA</td>\n",
       "      <td>USA</td>\n",
       "      <td>Orb</td>\n",
       "      <td>Multiple sightings</td>\n",
       "      <td>3/19/2012</td>\n",
       "      <td>12/20/2012</td>\n",
       "      <td>NaN</td>\n",
       "    </tr>\n",
       "    <tr>\n",
       "      <th>132306</th>\n",
       "      <td>148450</td>\n",
       "      <td>&lt;a data-content='Open' href='/sighting/?id=724...</td>\n",
       "      <td>NaN</td>\n",
       "      <td>New York City</td>\n",
       "      <td>NY</td>\n",
       "      <td>USA</td>\n",
       "      <td>Oval</td>\n",
       "      <td>round object with bright light and beams shinn...</td>\n",
       "      <td>9/19/2009</td>\n",
       "      <td>12/12/2009</td>\n",
       "      <td>NaN</td>\n",
       "    </tr>\n",
       "  </tbody>\n",
       "</table>\n",
       "<p>132307 rows × 11 columns</p>\n",
       "</div>"
      ],
      "text/plain": [
       "            id                                         image_link  \\\n",
       "0            0  <a data-content='Open' href='/sighting/?id=180...   \n",
       "1            1  <a data-content='Open' href='/sighting/?id=180...   \n",
       "2            3  <a data-content='Open' href='/sighting/?id=180...   \n",
       "3            4  <a data-content='Open' href='/sighting/?id=180...   \n",
       "4            5  <a data-content='Open' href='/sighting/?id=180...   \n",
       "...        ...                                                ...   \n",
       "132302  148445  <a data-content='Open' href='/sighting/?id=156...   \n",
       "132303  148446  <a data-content='Open' href='/sighting/?id=148...   \n",
       "132304  148447  <a data-content='Open' href='/sighting/?id=217...   \n",
       "132305  148448  <a data-content='Open' href='/sighting/?id=878...   \n",
       "132306  148450  <a data-content='Open' href='/sighting/?id=724...   \n",
       "\n",
       "               occurred            city state country    shape  \\\n",
       "0       2/15/2024 14:20  Shepherdsville    KY     USA      Orb   \n",
       "1        2/15/2024 6:21      Greenville    SC     USA   Circle   \n",
       "2       2/14/2024 22:45             NaN    VA     USA    Light   \n",
       "3       2/14/2024 22:44          Somers    CT     USA  Unknown   \n",
       "4       2/14/2024 22:15        Boscawen    NH     USA    Light   \n",
       "...                 ...             ...   ...     ...      ...   \n",
       "132302              NaN         Manning    SC     USA   Sphere   \n",
       "132303              NaN         Nahunta    GA     USA    Other   \n",
       "132304              NaN       Trevorton    PA     USA  Unknown   \n",
       "132305              NaN        Richland    WA     USA      Orb   \n",
       "132306              NaN   New York City    NY     USA     Oval   \n",
       "\n",
       "                                                  summary   reported  \\\n",
       "0                   Several sightings over several years.  2/15/2024   \n",
       "1       Object moving slowing across the sky, suddenly...  2/15/2024   \n",
       "2       Standing to the west of this object it hung in...  2/15/2024   \n",
       "3       Odd, flashing object I could only describe dur...  2/14/2024   \n",
       "4       Bright light in sky changing shape but almost ...  2/15/2024   \n",
       "...                                                   ...        ...   \n",
       "132302  The object was metallic in color.  Spherical i...   6/5/2020   \n",
       "132303  ((HOAX??))  ((NUFORC Note:  Source of report p...  8/24/2019   \n",
       "132304  Fast UFO flyies across mountain areas.  Telsa ...  2/10/2002   \n",
       "132305                                 Multiple sightings  3/19/2012   \n",
       "132306  round object with bright light and beams shinn...  9/19/2009   \n",
       "\n",
       "            posted image  \n",
       "0        2/15/2024   NaN  \n",
       "1        2/15/2024   NaN  \n",
       "2        2/15/2024   NaN  \n",
       "3        2/15/2024     Y  \n",
       "4        2/15/2024     Y  \n",
       "...            ...   ...  \n",
       "132302   6/25/2020   NaN  \n",
       "132303    9/6/2019   NaN  \n",
       "132304   2/22/2002   NaN  \n",
       "132305  12/20/2012   NaN  \n",
       "132306  12/12/2009   NaN  \n",
       "\n",
       "[132307 rows x 11 columns]"
      ]
     },
     "execution_count": 12,
     "metadata": {},
     "output_type": "execute_result"
    }
   ],
   "source": [
    "usa_ufos2"
   ]
  },
  {
   "cell_type": "code",
   "execution_count": 7,
   "metadata": {},
   "outputs": [
    {
     "data": {
      "text/plain": [
       "1884"
      ]
     },
     "execution_count": 7,
     "metadata": {},
     "output_type": "execute_result"
    }
   ],
   "source": [
    "usa_ufos2[usa_ufos2['state']=='CA'].city.nunique()\n",
    "\n",
    "#previous result was 2564"
   ]
  },
  {
   "cell_type": "code",
   "execution_count": 19,
   "metadata": {},
   "outputs": [
    {
     "data": {
      "text/plain": [
       "city           state\n",
       "Phoenix        AZ       816\n",
       "New York City  NY       809\n",
       "Seattle        WA       803\n",
       "Las Vegas      NV       690\n",
       "Portland       OR       614\n",
       "Los Angeles    CA       611\n",
       "San Diego      CA       587\n",
       "Tucson         AZ       487\n",
       "Chicago        IL       477\n",
       "Houston        TX       449\n",
       "Albuquerque    NM       413\n",
       "dtype: int64"
      ]
     },
     "execution_count": 19,
     "metadata": {},
     "output_type": "execute_result"
    }
   ],
   "source": [
    "us_city_count2 = usa_ufos2[['city', 'state']].value_counts()\n",
    "#us_city_counts2 = pd.DataFrame(us_city_counts2).reset_index()\n",
    "#us_city_counts2.columns = ['city', 'state', 'count']\n",
    "\n",
    "#us_city_count2.sort_values('count', ascending=False)\n",
    "us_city_count2.head(11)\n",
    "\n",
    "#previous answers were\n",
    "# 0 Phoenix\tAZ\t773\n",
    "# 1\tSeattle\tWA\t742\n",
    "# 2\tLas Vegas\tNV\t648\n",
    "# 3\tPortland\tOR\t590\n",
    "# 4\tLos Angeles\tCA\t557\n",
    "# 5\tSan Diego\tCA\t547\n",
    "# 6\tTucson\tAZ\t472\n",
    "# 7\tChicago\tIL\t446\n",
    "# 8\tHouston\tTX\t429\n",
    "# 9\tAlbuquerque\tNM\t399\n",
    "\n",
    "#Note that NYC was not in top 10 "
   ]
  },
  {
   "cell_type": "code",
   "execution_count": 18,
   "metadata": {},
   "outputs": [
    {
     "data": {
      "text/plain": [
       "state  \n",
       "CA         16243\n",
       "FL          8305\n",
       "WA          7233\n",
       "TX          6203\n",
       "NY          5908\n",
       "PA          5049\n",
       "AZ          4982\n",
       "OH          4471\n",
       "IL          4298\n",
       "NC          3680\n",
       "MI          3669\n",
       "OR          3564\n",
       "CO          3283\n",
       "NJ          2897\n",
       "MO          2814\n",
       "IN          2732\n",
       "GA          2730\n",
       "MA          2716\n",
       "VA          2711\n",
       "WI          2455\n",
       "TN          2318\n",
       "SC          2247\n",
       "MN          2112\n",
       "CT          2036\n",
       "MD          1859\n",
       "NV          1705\n",
       "KY          1692\n",
       "NM          1674\n",
       "UT          1531\n",
       "OK          1502\n",
       "AL          1403\n",
       "ID          1358\n",
       "AR          1291\n",
       "IA          1225\n",
       "NH          1199\n",
       "ME          1192\n",
       "KS          1191\n",
       "LA          1128\n",
       "MT          1004\n",
       "WV           908\n",
       "MS           787\n",
       "NE           702\n",
       "HI           672\n",
       "AK           644\n",
       "VT           610\n",
       "RI           599\n",
       "DE           419\n",
       "WY           416\n",
       "SD           397\n",
       "ND           277\n",
       "DC           152\n",
       "Unknown      114\n",
       "dtype: int64"
      ]
     },
     "execution_count": 18,
     "metadata": {},
     "output_type": "execute_result"
    }
   ],
   "source": [
    "usa_ufos2[['state']].value_counts()"
   ]
  },
  {
   "cell_type": "code",
   "execution_count": null,
   "metadata": {},
   "outputs": [],
   "source": []
  }
 ],
 "metadata": {
  "kernelspec": {
   "display_name": "base",
   "language": "python",
   "name": "python3"
  },
  "language_info": {
   "codemirror_mode": {
    "name": "ipython",
    "version": 3
   },
   "file_extension": ".py",
   "mimetype": "text/x-python",
   "name": "python",
   "nbconvert_exporter": "python",
   "pygments_lexer": "ipython3",
   "version": "3.9.7"
  }
 },
 "nbformat": 4,
 "nbformat_minor": 2
}
